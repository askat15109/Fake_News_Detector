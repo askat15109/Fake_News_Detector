{
 "cells": [
  {
   "cell_type": "code",
   "execution_count": null,
   "id": "f5b94d23-1342-490c-b5f7-1a747a22776a",
   "metadata": {},
   "outputs": [],
   "source": []
  },
  {
   "cell_type": "code",
   "execution_count": 28,
   "id": "357d1783-18e7-44bc-980f-afe678d2761c",
   "metadata": {},
   "outputs": [
    {
     "name": "stdout",
     "output_type": "stream",
     "text": [
      "Combined Dataset Sample:\n",
      "                                                    title  \\\n",
      "22216   BREAKING: GOP Chairman Grassley Has Had Enoug...   \n",
      "27917   Failed GOP Candidates Remembered In Hilarious...   \n",
      "25007   Mike Pence’s New DC Neighbors Are HILARIOUSLY...   \n",
      "1377   California AG pledges to defend birth control ...   \n",
      "32476  AZ RANCHERS Living On US-Mexico Border Destroy...   \n",
      "\n",
      "                                                    text       subject  \\\n",
      "22216  Donald Trump s White House is in chaos, and th...          News   \n",
      "27917  Now that Donald Trump is the presumptive GOP n...          News   \n",
      "25007  Mike Pence is a huge homophobe. He supports ex...          News   \n",
      "1377   SAN FRANCISCO (Reuters) - California Attorney ...  politicsNews   \n",
      "32476  Twisted reasoning is all that comes from Pelos...      politics   \n",
      "\n",
      "                   date  label  \n",
      "22216     July 21, 2017      0  \n",
      "27917       May 7, 2016      0  \n",
      "25007  December 3, 2016      0  \n",
      "1377   October 6, 2017       1  \n",
      "32476      Apr 25, 2017      0  \n",
      "\n",
      "SVM Classification Report:\n",
      "               precision    recall  f1-score   support\n",
      "\n",
      "           0       0.99      0.98      0.98       533\n",
      "           1       0.97      0.99      0.98       467\n",
      "\n",
      "    accuracy                           0.98      1000\n",
      "   macro avg       0.98      0.98      0.98      1000\n",
      "weighted avg       0.98      0.98      0.98      1000\n",
      "\n",
      "SVM Accuracy: 0.981\n"
     ]
    },
    {
     "data": {
      "image/png": "[encoded data removed]",
      "text/plain": [
       "<Figure size 800x600 with 2 Axes>"
      ]
     },
     "metadata": {},
     "output_type": "display_data"
    },
    {
     "name": "stdout",
     "output_type": "stream",
     "text": [
      "Models and vectorizer saved successfully.\n"
     ]
    }
   ],
   "source": [
    "import pandas as pd\n",
    "import numpy as np\n",
    "import matplotlib.pyplot as plt\n",
    "import seaborn as sns\n",
    "from sklearn.feature_extraction.text import TfidfVectorizer\n",
    "from sklearn.model_selection import train_test_split\n",
    "from sklearn.linear_model import SGDClassifier\n",
    "from sklearn.naive_bayes import MultinomialNB\n",
    "from sklearn.metrics import classification_report, confusion_matrix, accuracy_score\n",
    "import joblib\n",
    "\n",
    "# Load datasets (Ensure these files are available)\n",
    "real_news = pd.read_csv(r\"C:\\Users\\Hp\\Downloads\\Compressed\\True.csv\")\n",
    "fake_news = pd.read_csv(r\"C:\\Users\\Hp\\Downloads\\Compressed\\Fake.csv\")\n",
    "\n",
    "# Add labels to datasets\n",
    "real_news['label'] = 1  # 1 for real news\n",
    "fake_news['label'] = 0  # 0 for fake news\n",
    "\n",
    "# Combine the datasets and sample for faster execution\n",
    "df = pd.concat([real_news, fake_news], ignore_index=True).sample(5000, random_state=42)\n",
    "\n",
    "# Inspect the combined dataset\n",
    "print(\"Combined Dataset Sample:\\n\", df.head())\n",
    "\n",
    "# Drop missing values if any\n",
    "df.dropna(inplace=True)\n",
    "\n",
    "# Split dataset into features and labels\n",
    "X = df['text']\n",
    "y = df['label']\n",
    "\n",
    "# Text preprocessing and vectorization using TF-IDF (Non-negative values required for MultinomialNB)\n",
    "vectorizer = TfidfVectorizer(stop_words='english', max_features=10000)\n",
    "X = vectorizer.fit_transform(X)\n",
    "\n",
    "# Split the data into training and testing sets\n",
    "X_train, X_test, y_train, y_test = train_test_split(X, y, test_size=0.2, random_state=42)\n",
    "\n",
    "# Model 2: Linear SVM (via SGD for faster performance)\n",
    "svm_model = SGDClassifier(loss='hinge', max_iter=1000, tol=1e-3)\n",
    "svm_model.fit(X_train, y_train)\n",
    "\n",
    "# Evaluate SVM Model\n",
    "svm_predictions = svm_model.predict(X_test)\n",
    "print(\"\\nSVM Classification Report:\\n\", classification_report(y_test, svm_predictions))\n",
    "print(\"SVM Accuracy:\", accuracy_score(y_test, svm_predictions))\n",
    "\n",
    "# Confusion Matrix Visualization for SVM\n",
    "plt.figure(figsize=(8, 6))\n",
    "sns.heatmap(confusion_matrix(y_test, svm_predictions), annot=True, fmt='d', cmap='Blues')\n",
    "plt.title('Confusion Matrix for SVM')\n",
    "plt.xlabel('Predicted')\n",
    "plt.ylabel('Actual')\n",
    "plt.show()\n",
    "\n",
    "# Save the models if needed\n",
    "joblib.dump(svm_model, 'svm_model.pkl')\n",
    "joblib.dump(vectorizer, 'vectorizer.pkl')\n",
    "\n",
    "print(\"Models and vectorizer saved successfully.\")\n"
   ]
  },
  {
   "cell_type": "code",
   "execution_count": 30,
   "id": "9236ad5c-74b7-4aca-98ba-7fe5105d00b4",
   "metadata": {},
   "outputs": [
    {
     "name": "stdin",
     "output_type": "stream",
     "text": [
      "Enter the news article text:  vfrom flask import Flask, request, render_template import joblib  # Load pre-trained models and vectorizer nb_model = joblib.load('naive_bayes_model.pkl') svm_model = joblib.load('svm_model.pkl') vectorizer = joblib.load('vectorizer.pkl')  app = Flask(__name__)  # Route for home page @app.route('/') def home():     return render_template('index.html')  # Route to handle predictions @app.route('/predict', methods=['POST']) def predict():     # Get the input text from the form     news_text = request.form['news_text']      # Transform the input text using the vectorizer     news_vector = vectorizer.transform([news_text])      # Predict using both models     nb_prediction = nb_model.predict(news_vector)[0]     svm_prediction = svm_model.predict(news_vector)[0]      # Create readable results     nb_result = \"Real\" if nb_prediction == 1 else \"Fake\"     svm_result = \"Real\" if svm_prediction == 1 else \"Fake\"      return render_template('index.html',                             news_text=news_text,                             nb_result=nb_result,                             svm_result=svm_result)  if __name__ == '__main__':     app.run(debug=True)\n"
     ]
    },
    {
     "name": "stdout",
     "output_type": "stream",
     "text": [
      "SVM Prediction: Fake\n"
     ]
    }
   ],
   "source": [
    "import joblib\n",
    "\n",
    "# Load the models and vectorizer\n",
    "nb_model = joblib.load('naive_bayes_model.pkl')\n",
    "svm_model = joblib.load('svm_model.pkl')\n",
    "vectorizer = joblib.load('vectorizer.pkl')\n",
    "\n",
    "# Input news text\n",
    "news_text = input(\"Enter the news article text: \")\n",
    "\n",
    "# Transform the input text using the vectorizer\n",
    "news_vector = vectorizer.transform([news_text])\n",
    "\n",
    "# Predict with Naive Bayes\n",
    "nb_prediction = nb_model.predict(news_vector)[0]\n",
    "svm_prediction = svm_model.predict(news_vector)[0]\n",
    "\n",
    "# Display predictions\n",
    "print(\"SVM Prediction:\", \"Real\" if svm_prediction == 1 else \"Fake\")\n"
   ]
  },
  {
   "cell_type": "code",
   "execution_count": null,
   "id": "64466992-d984-4af3-80e2-51c17a0e51cc",
   "metadata": {},
   "outputs": [],
   "source": []
  }
 ],
 "metadata": {
  "kernelspec": {
   "display_name": "Python 3 (ipykernel)",
   "language": "python",
   "name": "python3"
  },
  "language_info": {
   "codemirror_mode": {
    "name": "ipython",
    "version": 3
   },
   "file_extension": ".py",
   "mimetype": "text/x-python",
   "name": "python",
   "nbconvert_exporter": "python",
   "pygments_lexer": "ipython3",
   "version": "3.11.7"
  }
 },
 "nbformat": 4,
 "nbformat_minor": 5
}
